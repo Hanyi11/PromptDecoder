{
 "cells": [
  {
   "cell_type": "code",
   "execution_count": 47,
   "metadata": {},
   "outputs": [],
   "source": [
    "import torch\n",
    "import torchvision\n",
    "import sys\n",
    "import numpy as np\n",
    "import matplotlib.pyplot as plt\n",
    "import os"
   ]
  },
  {
   "cell_type": "code",
   "execution_count": 48,
   "metadata": {},
   "outputs": [],
   "source": [
    "from segment_anything import sam_model_registry\n",
    "from segment_anything.separate_sam_encoder import SamEncoder\n",
    "\n",
    "sam_checkpoint = \"/home/icb/hanyi.zhang/main_master_thesis/segment-anything/sam_vit_l_0b3195.pth\"\n",
    "model_type = \"vit_l\"\n",
    "\n",
    "device = \"cuda\"\n",
    "\n",
    "sam = sam_model_registry[model_type](checkpoint=sam_checkpoint)\n",
    "sam.to(device=device)\n",
    "\n",
    "sam_image_encoder = SamEncoder(sam, device)"
   ]
  },
  {
   "cell_type": "code",
   "execution_count": 49,
   "metadata": {},
   "outputs": [],
   "source": [
    "# load an image here\n",
    "from PIL import Image\n",
    "import numpy as np\n",
    "\n",
    "# Function to load an image from a file and convert it to a numpy array\n",
    "def load_image_to_numpy(file_path):\n",
    "    # Load the image file\n",
    "    with Image.open(file_path) as img:\n",
    "        # Ensure the image is in RGB format\n",
    "        img = img.convert('RGB')\n",
    "        \n",
    "        # Convert the image to a NumPy array\n",
    "        image_array = np.array(img)\n",
    "    \n",
    "    return image_array"
   ]
  },
  {
   "cell_type": "code",
   "execution_count": 51,
   "metadata": {},
   "outputs": [
    {
     "name": "stdout",
     "output_type": "stream",
     "text": [
      "50\n"
     ]
    }
   ],
   "source": [
    "# Specify the directories for source images and target embeddings\n",
    "image_folder = \"/home/icb/hanyi.zhang/main_master_thesis/NeurIPS22-CellSeg-png/val/ref_crop\"\n",
    "embed_folder = \"/home/icb/hanyi.zhang/main_master_thesis/NeurIPS22-CellSeg-png/val/ref_crop_emb\"\n",
    "os.makedirs(embed_folder)\n",
    "\n",
    "# List all files in the image directory\n",
    "images = os.listdir(image_folder)\n",
    "\n",
    "# Iterate over each image file\n",
    "i = 1\n",
    "for img in images:\n",
    "    if i % 50 == 0:\n",
    "        print(i)\n",
    "\n",
    "    # Construct full path to the image file\n",
    "    img_path = os.path.join(image_folder, img)\n",
    "    # Load the image file into a numpy array\n",
    "    img_np = load_image_to_numpy(img_path)\n",
    "    \n",
    "    # Process the image to get its embedding\n",
    "    # Assuming the 'set_image' method processes the image and returns its embedding directly\n",
    "    # If 'set_image' doesn't return the embedding but updates an internal state, you'd need to access the embedding differently\n",
    "    img_embed = sam_image_encoder.set_image(img_np)\n",
    "\n",
    "    # Replace the original extension with 'npy' for the output file\n",
    "    embed_path = os.path.join(embed_folder, img.replace('.png', '.npy'))\n",
    "    \n",
    "    # Save the embedding to the specified path\n",
    "    np.save(embed_path, img_embed.cpu().detach().numpy())\n",
    "\n",
    "    i+=1\n"
   ]
  },
  {
   "cell_type": "code",
   "execution_count": 13,
   "metadata": {},
   "outputs": [
    {
     "data": {
      "text/plain": [
       "(1, 256, 64, 64)"
      ]
     },
     "execution_count": 13,
     "metadata": {},
     "output_type": "execute_result"
    }
   ],
   "source": [
    "example = np.load('/home/icb/hanyi.zhang/main_master_thesis/NeurIPS22-CellSeg-png/train/img_emb/cell_00001.npy')\n",
    "example.shape"
   ]
  },
  {
   "cell_type": "code",
   "execution_count": null,
   "metadata": {},
   "outputs": [],
   "source": [
    "import numpy as np\n",
    "from PIL import Image\n",
    "import matplotlib.pyplot as plt\n",
    "import os\n",
    "import matplotlib.colors as mcolors\n",
    "\n",
    "# Function to read TIFF file and convert it to a numpy array\n",
    "def tiff_to_numpy(file_path):\n",
    "    with Image.open(file_path) as img:\n",
    "        numpy_array = np.array(img)\n",
    "    return numpy_array"
   ]
  },
  {
   "cell_type": "code",
   "execution_count": 39,
   "metadata": {},
   "outputs": [
    {
     "name": "stdout",
     "output_type": "stream",
     "text": [
      "50\n"
     ]
    }
   ],
   "source": [
    "# Test one example\n",
    "train_labels_path = '/home/icb/hanyi.zhang/NeurIPS22-CellSeg/Training/labels'\n",
    "train_coord_path = '/home/icb/hanyi.zhang/main_master_thesis/NeurIPS22-CellSeg-png/train/labels'\n",
    "val_labels_path = '/home/icb/hanyi.zhang/NeurIPS22-CellSeg/Tuning/labels'\n",
    "val_coord_path = '/home/icb/hanyi.zhang/main_master_thesis/NeurIPS22-CellSeg-png/val/labels'\n",
    "\n",
    "START_SYMBOL = (0, 0, 0, 0)\n",
    "PADDING_SYMBOL = (-1, -1, -1, -1)\n",
    "MAX_SEQ_LEN = 2000\n",
    "\n",
    "i = 1\n",
    "# Loop through each file in the directory\n",
    "for file_name in os.listdir(val_labels_path):\n",
    "    if file_name.endswith('.tiff'):\n",
    "        file_path = os.path.join(train_labels_path, file_name)\n",
    "        numpy_array = tiff_to_numpy(file_path)\n",
    "        transformed_coord = sam_image_encoder.set_box_coordinates(numpy_array)\n",
    "\n",
    "        # Add start symbol\n",
    "        coords_with_start = [START_SYMBOL] + transformed_coord.tolist()\n",
    "\n",
    "        # Add padding symbols to reach MAX_SEQ_LEN\n",
    "        padding_length = MAX_SEQ_LEN - len(coords_with_start)\n",
    "        if padding_length > 0:\n",
    "            coords_with_start.extend([PADDING_SYMBOL] * padding_length)\n",
    "        \n",
    "        # Ensure the length is exactly MAX_SEQ_LEN\n",
    "        coords_with_start = np.array(coords_with_start[:MAX_SEQ_LEN], dtype=np.float32)\n",
    "        \n",
    "        # Save the coordinates as a numpy file\n",
    "        save_path = os.path.join(val_coord_path, file_name.replace('.tiff', '.npy'))\n",
    "        np.save(save_path, coords_with_start)\n",
    "\n",
    "        #print(f\"Processed and saved {file_name} to {save_path}\")\n",
    "    \n",
    "    if i % 50 == 0:\n",
    "        print(i)\n",
    "    i += 1\n",
    "\n"
   ]
  },
  {
   "cell_type": "code",
   "execution_count": 40,
   "metadata": {},
   "outputs": [
    {
     "data": {
      "text/plain": [
       "array([[  0. ,   0. ,   0. ,   0. ],\n",
       "       [  0. , 272.4,  40.8, 344. ],\n",
       "       [199.2, 737.2, 254.4, 767.6],\n",
       "       ...,\n",
       "       [ -1. ,  -1. ,  -1. ,  -1. ],\n",
       "       [ -1. ,  -1. ,  -1. ,  -1. ],\n",
       "       [ -1. ,  -1. ,  -1. ,  -1. ]], dtype=float32)"
      ]
     },
     "execution_count": 40,
     "metadata": {},
     "output_type": "execute_result"
    }
   ],
   "source": [
    "file_path = '/home/icb/hanyi.zhang/main_master_thesis/NeurIPS22-CellSeg-png/train/labels/cell_00001_label.npy'\n",
    "coord = np.load(file_path)\n",
    "coord"
   ]
  }
 ],
 "metadata": {
  "kernelspec": {
   "display_name": "Python 3",
   "language": "python",
   "name": "python3"
  },
  "language_info": {
   "codemirror_mode": {
    "name": "ipython",
    "version": 3
   },
   "file_extension": ".py",
   "mimetype": "text/x-python",
   "name": "python",
   "nbconvert_exporter": "python",
   "pygments_lexer": "ipython3",
   "version": "3.6.8"
  }
 },
 "nbformat": 4,
 "nbformat_minor": 2
}
